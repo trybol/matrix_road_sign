{
  "nbformat": 4,
  "nbformat_minor": 0,
  "metadata": {
    "colab": {
      "name": "day4.ipynb",
      "provenance": [],
      "mount_file_id": "15Wy18-p1Lk7HPRHJ4EDchUo5PYxFfOXk",
      "authorship_tag": "ABX9TyPqFETZbST+6gOSCfzt3rie",
      "include_colab_link": true
    },
    "kernelspec": {
      "name": "python3",
      "display_name": "Python 3"
    },
    "accelerator": "GPU"
  },
  "cells": [
    {
      "cell_type": "markdown",
      "metadata": {
        "id": "view-in-github",
        "colab_type": "text"
      },
      "source": [
        "<a href=\"https://colab.research.google.com/github/trybol/matrix_road_sign/blob/master/day4.ipynb\" target=\"_parent\"><img src=\"https://colab.research.google.com/assets/colab-badge.svg\" alt=\"Open In Colab\"/></a>"
      ]
    },
    {
      "cell_type": "code",
      "metadata": {
        "id": "-B5qgQwZ7Wp7",
        "colab_type": "code",
        "colab": {
          "base_uri": "https://localhost:8080/",
          "height": 51
        },
        "outputId": "0ea52c57-968d-47cc-928c-2a57038d5aaf"
      },
      "source": [
        "import pandas as pd\n",
        "import numpy as np\n",
        "import os\n",
        "import datetime\n",
        "\n",
        "import tensorflow as tf\n",
        "from tensorflow.keras.models import Sequential\n",
        "from tensorflow.keras.layers import Conv2D, MaxPool2D, Dense, Flatten, Dropout\n",
        "from tensorflow.keras.utils import to_categorical\n",
        "\n",
        "import matplotlib.pyplot as plt\n",
        "from skimage import color, exposure\n",
        "\n",
        "from sklearn.metrics import accuracy_score\n",
        "\n",
        "\n",
        "%load_ext tensorboard"
      ],
      "execution_count": 26,
      "outputs": [
        {
          "output_type": "stream",
          "text": [
            "The tensorboard extension is already loaded. To reload it, use:\n",
            "  %reload_ext tensorboard\n"
          ],
          "name": "stdout"
        }
      ]
    },
    {
      "cell_type": "code",
      "metadata": {
        "id": "KlqhjTxX8W43",
        "colab_type": "code",
        "colab": {
          "base_uri": "https://localhost:8080/",
          "height": 34
        },
        "outputId": "c977355e-2bd1-454e-ed6b-a31c81be3152"
      },
      "source": [
        "cd '/content/drive/My Drive/Colab Notebooks/matrix/matrix_three/matrix_road_sign'"
      ],
      "execution_count": 2,
      "outputs": [
        {
          "output_type": "stream",
          "text": [
            "/content/drive/My Drive/Colab Notebooks/matrix/matrix_three/matrix_road_sign\n"
          ],
          "name": "stdout"
        }
      ]
    },
    {
      "cell_type": "code",
      "metadata": {
        "id": "GS_s_7HJ8YHl",
        "colab_type": "code",
        "colab": {}
      },
      "source": [
        "train = pd.read_pickle('data/train.p')\n",
        "test = pd.read_pickle('data/test.p')\n",
        "\n",
        "X_train, y_train  = train['features'], train['labels']\n",
        "X_test, y_test  = test['features'], test['labels']"
      ],
      "execution_count": 0,
      "outputs": []
    },
    {
      "cell_type": "code",
      "metadata": {
        "id": "dA_NSSAd8aLs",
        "colab_type": "code",
        "colab": {}
      },
      "source": [
        "if y_train.ndim == 1: y_train = to_categorical(y_train)\n",
        "if y_test.ndim == 1: y_test = to_categorical(y_test)"
      ],
      "execution_count": 0,
      "outputs": []
    },
    {
      "cell_type": "code",
      "metadata": {
        "id": "H_an0SR38eEt",
        "colab_type": "code",
        "colab": {}
      },
      "source": [
        "input_shape = X_train.shape[1:]\n",
        "num_classes = y_train.shape[1]"
      ],
      "execution_count": 0,
      "outputs": []
    },
    {
      "cell_type": "code",
      "metadata": {
        "id": "UlCuW3sn8gkM",
        "colab_type": "code",
        "colab": {
          "base_uri": "https://localhost:8080/",
          "height": 51
        },
        "outputId": "f0487191-1b4b-4b29-99a5-cc28fd4f2577"
      },
      "source": [
        "model = Sequential([\n",
        "    \n",
        "    Conv2D(filters=64, kernel_size=(3, 3), activation='relu', input_shape=input_shape),\n",
        "    \n",
        "    Flatten(),\n",
        "    \n",
        "    Dense(num_classes, activation='softmax'),\n",
        "])\n",
        "\n",
        "#model.summary()\n",
        "\n",
        "model.compile(loss='categorical_crossentropy', optimizer='Adam', metrics=['accuracy'])\n",
        "model.fit(X_train, y_train)"
      ],
      "execution_count": 6,
      "outputs": [
        {
          "output_type": "stream",
          "text": [
            "1088/1088 [==============================] - 4s 3ms/step - loss: 10.9531 - accuracy: 0.7757\n"
          ],
          "name": "stdout"
        },
        {
          "output_type": "execute_result",
          "data": {
            "text/plain": [
              "<tensorflow.python.keras.callbacks.History at 0x7f40d22099e8>"
            ]
          },
          "metadata": {
            "tags": []
          },
          "execution_count": 6
        }
      ]
    },
    {
      "cell_type": "code",
      "metadata": {
        "id": "LahHnx2b8jC0",
        "colab_type": "code",
        "colab": {}
      },
      "source": [
        "def get_cnn_v1(input_shape, num_classes):\n",
        " return Sequential([\n",
        "    \n",
        "    Conv2D(filters=64, kernel_size=(3, 3), activation='relu', input_shape=input_shape),\n",
        "    \n",
        "    Flatten(),\n",
        "    \n",
        "    Dense(num_classes, activation='softmax'),\n",
        " ])\n",
        "\n",
        "def train_model(model, X_train, y_train, params_fit={}):\n",
        "  \n",
        "  model.compile(loss='categorical_crossentropy', optimizer='Adam', metrics=['accuracy'])\n",
        "\n",
        "  logdir = os.path.join(\"logs\", datetime.datetime.now().strftime(\"%Y%m%d-%H%M%S\"))\n",
        "  tensorboard_callback = tf.keras.callbacks.TensorBoard(logdir, histogram_freq=1)\n",
        "  \n",
        "  model.fit(\n",
        "      X_train, \n",
        "      y_train,\n",
        "      batch_size=params_fit.get('batch_size', 128),\n",
        "      epochs=params_fit.get('epochs', 5),\n",
        "      verbose=params_fit.get('verbose', 1),\n",
        "      validation_data=params_fit.get('validation_data', (X_train, y_train)),\n",
        "      callbacks=[tensorboard_callback]\n",
        "  )\n",
        "\n",
        "  return model"
      ],
      "execution_count": 0,
      "outputs": []
    },
    {
      "cell_type": "code",
      "metadata": {
        "id": "pOQnKyDA8xZe",
        "colab_type": "code",
        "colab": {
          "base_uri": "https://localhost:8080/",
          "height": 187
        },
        "outputId": "9e7b40c4-2a67-4308-e2e6-8d75f5f7865d"
      },
      "source": [
        "model = get_cnn_v1(input_shape, num_classes)\n",
        "model_trained = train_model(model, X_train, y_train)"
      ],
      "execution_count": 8,
      "outputs": [
        {
          "output_type": "stream",
          "text": [
            "Epoch 1/5\n",
            "272/272 [==============================] - 3s 12ms/step - loss: 31.7801 - accuracy: 0.6852 - val_loss: 0.2742 - val_accuracy: 0.9404\n",
            "Epoch 2/5\n",
            "272/272 [==============================] - 3s 11ms/step - loss: 0.2330 - accuracy: 0.9485 - val_loss: 0.1425 - val_accuracy: 0.9695\n",
            "Epoch 3/5\n",
            "272/272 [==============================] - 3s 11ms/step - loss: 0.1425 - accuracy: 0.9688 - val_loss: 0.1182 - val_accuracy: 0.9741\n",
            "Epoch 4/5\n",
            "272/272 [==============================] - 3s 11ms/step - loss: 0.1240 - accuracy: 0.9716 - val_loss: 0.0757 - val_accuracy: 0.9826\n",
            "Epoch 5/5\n",
            "272/272 [==============================] - 3s 11ms/step - loss: 0.0932 - accuracy: 0.9795 - val_loss: 0.0594 - val_accuracy: 0.9874\n"
          ],
          "name": "stdout"
        }
      ]
    },
    {
      "cell_type": "code",
      "metadata": {
        "id": "nIt2aNuxAzuk",
        "colab_type": "code",
        "colab": {}
      },
      "source": [
        "df = pd.read_csv('data/signnames.csv')\n",
        "labels_dict = df.to_dict()['b']"
      ],
      "execution_count": 0,
      "outputs": []
    },
    {
      "cell_type": "code",
      "metadata": {
        "id": "2PCVaAoF9ALV",
        "colab_type": "code",
        "colab": {
          "base_uri": "https://localhost:8080/",
          "height": 238
        },
        "outputId": "f6a17925-79bd-4eb4-c8fd-2e9364509de5"
      },
      "source": [
        "y_pred_prob = model_trained.predict(X_test)\n",
        "y_pred_prob"
      ],
      "execution_count": 22,
      "outputs": [
        {
          "output_type": "execute_result",
          "data": {
            "text/plain": [
              "array([[1.33253183e-11, 3.28227316e-06, 4.50250140e-04, ...,\n",
              "        1.60475872e-06, 4.76948771e-04, 1.00791063e-02],\n",
              "       [2.49755213e-13, 3.46884844e-05, 1.07772218e-03, ...,\n",
              "        1.75673777e-04, 1.05458912e-06, 2.14401586e-03],\n",
              "       [3.81221357e-12, 9.91897309e-07, 2.51144193e-05, ...,\n",
              "        2.49022173e-06, 2.29540630e-03, 4.66564763e-03],\n",
              "       ...,\n",
              "       [5.89723326e-03, 1.60646997e-02, 1.33263674e-02, ...,\n",
              "        4.32451069e-03, 1.12298466e-02, 9.20986012e-03],\n",
              "       [2.89306021e-03, 4.60851798e-03, 7.50652468e-03, ...,\n",
              "        1.29161645e-02, 2.17518527e-02, 5.12198918e-03],\n",
              "       [4.11182788e-04, 5.85408974e-03, 3.37796332e-03, ...,\n",
              "        2.86555383e-03, 2.86825118e-03, 1.40839751e-04]], dtype=float32)"
            ]
          },
          "metadata": {
            "tags": []
          },
          "execution_count": 22
        }
      ]
    },
    {
      "cell_type": "code",
      "metadata": {
        "id": "ylcs8JQh9V11",
        "colab_type": "code",
        "colab": {
          "base_uri": "https://localhost:8080/",
          "height": 204
        },
        "outputId": "9452f7bd-7ae8-40a4-cffb-285d5a7e4909"
      },
      "source": [
        "y_pred_prob[400]"
      ],
      "execution_count": 23,
      "outputs": [
        {
          "output_type": "execute_result",
          "data": {
            "text/plain": [
              "array([1.81193580e-04, 7.01319277e-06, 5.34817433e-11, 3.75315832e-17,\n",
              "       9.99810517e-01, 1.27172677e-06, 2.48939654e-18, 6.48803611e-19,\n",
              "       2.51892016e-28, 1.11257725e-15, 6.98586494e-19, 4.79005051e-15,\n",
              "       2.54154134e-23, 1.67232615e-21, 2.22178868e-26, 2.86129356e-24,\n",
              "       5.03465426e-24, 3.83303272e-29, 3.11190071e-12, 9.70740914e-30,\n",
              "       8.73891907e-23, 4.27178454e-22, 6.35344991e-27, 1.43465682e-21,\n",
              "       9.99538790e-14, 1.06261321e-15, 5.04250364e-10, 1.00240245e-17,\n",
              "       3.41501168e-23, 1.37280112e-16, 2.88836811e-25, 4.13668723e-17,\n",
              "       4.37518391e-17, 1.31954684e-29, 3.30476328e-27, 9.75737012e-32,\n",
              "       6.72446204e-29, 4.19999037e-16, 3.04491555e-30, 5.86874187e-28,\n",
              "       2.36685118e-18, 2.16088473e-28, 1.61781369e-24], dtype=float32)"
            ]
          },
          "metadata": {
            "tags": []
          },
          "execution_count": 23
        }
      ]
    },
    {
      "cell_type": "code",
      "metadata": {
        "id": "i65xHK3H-93p",
        "colab_type": "code",
        "colab": {
          "base_uri": "https://localhost:8080/",
          "height": 34
        },
        "outputId": "b3f9bd36-24ca-4d70-e27f-21615816fc1f"
      },
      "source": [
        "np.argmax( y_pred_prob[400] )"
      ],
      "execution_count": 24,
      "outputs": [
        {
          "output_type": "execute_result",
          "data": {
            "text/plain": [
              "4"
            ]
          },
          "metadata": {
            "tags": []
          },
          "execution_count": 24
        }
      ]
    },
    {
      "cell_type": "code",
      "metadata": {
        "id": "WC4vRP9n_6RB",
        "colab_type": "code",
        "colab": {
          "base_uri": "https://localhost:8080/",
          "height": 282
        },
        "outputId": "9d946571-8f13-4869-fa68-9e4eaeb015f1"
      },
      "source": [
        "plt.bar(range(43), y_pred_prob[400])"
      ],
      "execution_count": 25,
      "outputs": [
        {
          "output_type": "execute_result",
          "data": {
            "text/plain": [
              "<BarContainer object of 43 artists>"
            ]
          },
          "metadata": {
            "tags": []
          },
          "execution_count": 25
        },
        {
          "output_type": "display_data",
          "data": {
            "image/png": "[encoded data removed]",
            "text/plain": [
              "<Figure size 432x288 with 1 Axes>"
            ]
          },
          "metadata": {
            "tags": []
          }
        }
      ]
    },
    {
      "cell_type": "code",
      "metadata": {
        "id": "ma6by3g69fxU",
        "colab_type": "code",
        "colab": {
          "base_uri": "https://localhost:8080/",
          "height": 283
        },
        "outputId": "de062cae-8a5a-4257-9d39-de7feabcc0b4"
      },
      "source": [
        "plt.imshow(X_test[400])"
      ],
      "execution_count": 14,
      "outputs": [
        {
          "output_type": "execute_result",
          "data": {
            "text/plain": [
              "<matplotlib.image.AxesImage at 0x7f40ca03ee10>"
            ]
          },
          "metadata": {
            "tags": []
          },
          "execution_count": 14
        },
        {
          "output_type": "display_data",
          "data": {
            "image/png": "[encoded data removed]",
            "text/plain": [
              "<Figure size 432x288 with 1 Axes>"
            ]
          },
          "metadata": {
            "tags": []
          }
        }
      ]
    },
    {
      "cell_type": "code",
      "metadata": {
        "id": "7z0OCyG_9v9F",
        "colab_type": "code",
        "colab": {}
      },
      "source": [
        "def predict(model_trained, X_test, y_test, scoring=accuracy_score):\n",
        "\n",
        "  y_test_norm = np.argmax( y_test, axis=1 )\n",
        "\n",
        "  y_pred_prob = model_trained.predict( X_test )\n",
        "  y_pred = np.argmax( y_pred_prob, axis=1 )\n",
        "\n",
        "  return scoring(y_test_norm, y_pred)"
      ],
      "execution_count": 0,
      "outputs": []
    },
    {
      "cell_type": "code",
      "metadata": {
        "id": "-Ni-7iRf-oAX",
        "colab_type": "code",
        "colab": {
          "base_uri": "https://localhost:8080/",
          "height": 34
        },
        "outputId": "64f2d376-9ea1-4ab4-b9b6-26be83a0e146"
      },
      "source": [
        "predict(model_trained, X_test, y_test)"
      ],
      "execution_count": 29,
      "outputs": [
        {
          "output_type": "execute_result",
          "data": {
            "text/plain": [
              "0.818140589569161"
            ]
          },
          "metadata": {
            "tags": []
          },
          "execution_count": 29
        }
      ]
    },
    {
      "cell_type": "code",
      "metadata": {
        "id": "RyaCDcbBC4LV",
        "colab_type": "code",
        "colab": {}
      },
      "source": [
        "def train_and_predict(model):\n",
        "  model_trained = train_model(model, X_train, y_train)\n",
        "  return predict(model_trained, X_test, y_test)"
      ],
      "execution_count": 0,
      "outputs": []
    },
    {
      "cell_type": "code",
      "metadata": {
        "id": "kcXivrQJGdKl",
        "colab_type": "code",
        "colab": {
          "base_uri": "https://localhost:8080/",
          "height": 204
        },
        "outputId": "706216f9-5a02-4e51-e93c-27ed970330e8"
      },
      "source": [
        "def get_cnn_v2(input_shape, num_classes):\n",
        " return Sequential([\n",
        "    \n",
        "    Conv2D(filters=32, kernel_size=(3, 3), activation='relu', input_shape=input_shape),\n",
        "    MaxPool2D(),\n",
        "    Dropout(0.3),\n",
        "\n",
        "    Conv2D(filters=64, kernel_size=(3, 3), activation='relu'),\n",
        "    MaxPool2D(),\n",
        "    Dropout(0.3),\n",
        "    \n",
        "    Flatten(),\n",
        "    \n",
        "    Dense(1024, activation='relu'),\n",
        "    Dropout(0.3),\n",
        "\n",
        "    Dense(num_classes, activation='softmax'),\n",
        " ])\n",
        "\n",
        "train_and_predict( get_cnn_v2(input_shape, num_classes))"
      ],
      "execution_count": 33,
      "outputs": [
        {
          "output_type": "stream",
          "text": [
            "Epoch 1/5\n",
            "272/272 [==============================] - 3s 12ms/step - loss: 6.0871 - accuracy: 0.2210 - val_loss: 1.9853 - val_accuracy: 0.4526\n",
            "Epoch 2/5\n",
            "272/272 [==============================] - 3s 11ms/step - loss: 1.6655 - accuracy: 0.5134 - val_loss: 0.7331 - val_accuracy: 0.8012\n",
            "Epoch 3/5\n",
            "272/272 [==============================] - 3s 11ms/step - loss: 0.8872 - accuracy: 0.7299 - val_loss: 0.3351 - val_accuracy: 0.9055\n",
            "Epoch 4/5\n",
            "272/272 [==============================] - 3s 11ms/step - loss: 0.5745 - accuracy: 0.8247 - val_loss: 0.1882 - val_accuracy: 0.9586\n",
            "Epoch 5/5\n",
            "272/272 [==============================] - 3s 11ms/step - loss: 0.4040 - accuracy: 0.8784 - val_loss: 0.0990 - val_accuracy: 0.9779\n"
          ],
          "name": "stdout"
        },
        {
          "output_type": "execute_result",
          "data": {
            "text/plain": [
              "0.8873015873015873"
            ]
          },
          "metadata": {
            "tags": []
          },
          "execution_count": 33
        }
      ]
    },
    {
      "cell_type": "code",
      "metadata": {
        "id": "jPAgSj1NHVfe",
        "colab_type": "code",
        "colab": {
          "base_uri": "https://localhost:8080/",
          "height": 204
        },
        "outputId": "ca5760f5-5448-428d-ccbe-d75f171b25d7"
      },
      "source": [
        "def get_cnn_v3(input_shape, num_classes):\n",
        " return Sequential([\n",
        "    Conv2D(filters=32, kernel_size=(3, 3), activation='relu', input_shape=input_shape),\n",
        "    Conv2D(filters=32, kernel_size=(3, 3), activation='relu', input_shape=input_shape),\n",
        "    MaxPool2D(),\n",
        "    Dropout(0.3),\n",
        "\n",
        "    Conv2D(filters=64, kernel_size=(3, 3), activation='relu'),\n",
        "    Conv2D(filters=64, kernel_size=(3, 3), activation='relu'),\n",
        "    MaxPool2D(),\n",
        "    Dropout(0.3),\n",
        "    \n",
        "    Flatten(),\n",
        "    \n",
        "    Dense(1024, activation='relu'),\n",
        "    Dropout(0.3),\n",
        "\n",
        "    Dense(num_classes, activation='softmax'),\n",
        " ])\n",
        "\n",
        "train_and_predict( get_cnn_v3(input_shape, num_classes))"
      ],
      "execution_count": 34,
      "outputs": [
        {
          "output_type": "stream",
          "text": [
            "Epoch 1/5\n",
            "272/272 [==============================] - 4s 16ms/step - loss: 2.1536 - accuracy: 0.4848 - val_loss: 0.4869 - val_accuracy: 0.9034\n",
            "Epoch 2/5\n",
            "272/272 [==============================] - 4s 15ms/step - loss: 0.4892 - accuracy: 0.8518 - val_loss: 0.1339 - val_accuracy: 0.9696\n",
            "Epoch 3/5\n",
            "272/272 [==============================] - 4s 15ms/step - loss: 0.2722 - accuracy: 0.9200 - val_loss: 0.0510 - val_accuracy: 0.9883\n",
            "Epoch 4/5\n",
            "272/272 [==============================] - 4s 15ms/step - loss: 0.1690 - accuracy: 0.9505 - val_loss: 0.0313 - val_accuracy: 0.9926\n",
            "Epoch 5/5\n",
            "272/272 [==============================] - 4s 15ms/step - loss: 0.1319 - accuracy: 0.9612 - val_loss: 0.0234 - val_accuracy: 0.9939\n"
          ],
          "name": "stdout"
        },
        {
          "output_type": "execute_result",
          "data": {
            "text/plain": [
              "0.9612244897959183"
            ]
          },
          "metadata": {
            "tags": []
          },
          "execution_count": 34
        }
      ]
    },
    {
      "cell_type": "code",
      "metadata": {
        "id": "-QV63sjrIWSl",
        "colab_type": "code",
        "colab": {
          "base_uri": "https://localhost:8080/",
          "height": 204
        },
        "outputId": "6ed16a82-6a07-4992-f57e-615f10a20ff1"
      },
      "source": [
        "def get_cnn_v4(input_shape, num_classes):\n",
        " return Sequential([\n",
        "    Conv2D(filters=32, kernel_size=(3, 3), activation='relu', input_shape=input_shape, padding='same'),\n",
        "    Conv2D(filters=32, kernel_size=(3, 3), activation='relu', input_shape=input_shape),\n",
        "    MaxPool2D(),\n",
        "    Dropout(0.3),\n",
        "\n",
        "\n",
        "    Conv2D(filters=32, kernel_size=(3, 3), activation='relu', input_shape=input_shape, padding='same'),\n",
        "    Conv2D(filters=32, kernel_size=(3, 3), activation='relu', input_shape=input_shape),\n",
        "    MaxPool2D(),\n",
        "    Dropout(0.3),\n",
        "\n",
        "    Conv2D(filters=64, kernel_size=(3, 3), activation='relu', padding='same'),\n",
        "    Conv2D(filters=64, kernel_size=(3, 3), activation='relu'),\n",
        "    MaxPool2D(),\n",
        "    Dropout(0.3),\n",
        "    \n",
        "    Flatten(),\n",
        "    \n",
        "    Dense(1024, activation='relu'),\n",
        "    Dropout(0.3),\n",
        "\n",
        "    Dense(num_classes, activation='softmax'),\n",
        " ])\n",
        "\n",
        "train_and_predict( get_cnn_v4(input_shape, num_classes))"
      ],
      "execution_count": 36,
      "outputs": [
        {
          "output_type": "stream",
          "text": [
            "Epoch 1/5\n",
            "272/272 [==============================] - 4s 15ms/step - loss: 2.8095 - accuracy: 0.2659 - val_loss: 1.0425 - val_accuracy: 0.6982\n",
            "Epoch 2/5\n",
            "272/272 [==============================] - 4s 14ms/step - loss: 0.9757 - accuracy: 0.7080 - val_loss: 0.3180 - val_accuracy: 0.9130\n",
            "Epoch 3/5\n",
            "272/272 [==============================] - 4s 14ms/step - loss: 0.4942 - accuracy: 0.8508 - val_loss: 0.1163 - val_accuracy: 0.9680\n",
            "Epoch 4/5\n",
            "272/272 [==============================] - 4s 14ms/step - loss: 0.3216 - accuracy: 0.9030 - val_loss: 0.0723 - val_accuracy: 0.9805\n",
            "Epoch 5/5\n",
            "272/272 [==============================] - 4s 14ms/step - loss: 0.2361 - accuracy: 0.9285 - val_loss: 0.0491 - val_accuracy: 0.9880\n"
          ],
          "name": "stdout"
        },
        {
          "output_type": "execute_result",
          "data": {
            "text/plain": [
              "0.9684807256235828"
            ]
          },
          "metadata": {
            "tags": []
          },
          "execution_count": 36
        }
      ]
    },
    {
      "cell_type": "code",
      "metadata": {
        "id": "FWxng7TWM2DF",
        "colab_type": "code",
        "colab": {
          "base_uri": "https://localhost:8080/",
          "height": 204
        },
        "outputId": "cceefe19-dc9d-40e1-c4bc-404535f224c9"
      },
      "source": [
        "def get_cnn_v5(input_shape, num_classes):\n",
        " return Sequential([\n",
        "    Conv2D(filters=32, kernel_size=(3, 3), activation='relu', input_shape=input_shape, padding='same'),\n",
        "    Conv2D(filters=32, kernel_size=(3, 3), activation='relu', input_shape=input_shape),\n",
        "    MaxPool2D(),\n",
        "    Dropout(0.3),\n",
        "\n",
        "\n",
        "    Conv2D(filters=32, kernel_size=(3, 3), activation='relu', input_shape=input_shape, padding='same'),\n",
        "    Conv2D(filters=32, kernel_size=(3, 3), activation='relu', input_shape=input_shape),\n",
        "    MaxPool2D(),\n",
        "    Dropout(0.3),\n",
        "\n",
        "    Conv2D(filters=64, kernel_size=(3, 3), activation='relu', padding='same'),\n",
        "    Conv2D(filters=64, kernel_size=(3, 3), activation='relu'),\n",
        "    MaxPool2D(),\n",
        "    Dropout(0.3),\n",
        "    \n",
        "    Flatten(),\n",
        "    \n",
        "    Dense(1024, activation='relu'),\n",
        "    Dropout(0.3),\n",
        "\n",
        "    Dense(1024, activation='relu'),\n",
        "    Dropout(0.3),\n",
        "\n",
        "    Dense(num_classes, activation='softmax'),\n",
        " ])\n",
        "\n",
        "train_and_predict( get_cnn_v5(input_shape, num_classes))"
      ],
      "execution_count": 37,
      "outputs": [
        {
          "output_type": "stream",
          "text": [
            "Epoch 1/5\n",
            "272/272 [==============================] - 4s 16ms/step - loss: 2.5882 - accuracy: 0.2882 - val_loss: 0.8947 - val_accuracy: 0.7271\n",
            "Epoch 2/5\n",
            "272/272 [==============================] - 4s 15ms/step - loss: 0.8816 - accuracy: 0.7178 - val_loss: 0.2586 - val_accuracy: 0.9186\n",
            "Epoch 3/5\n",
            "272/272 [==============================] - 4s 15ms/step - loss: 0.4574 - accuracy: 0.8543 - val_loss: 0.1221 - val_accuracy: 0.9647\n",
            "Epoch 4/5\n",
            "272/272 [==============================] - 4s 15ms/step - loss: 0.3115 - accuracy: 0.9012 - val_loss: 0.0774 - val_accuracy: 0.9754\n",
            "Epoch 5/5\n",
            "272/272 [==============================] - 4s 15ms/step - loss: 0.2378 - accuracy: 0.9278 - val_loss: 0.0685 - val_accuracy: 0.9811\n"
          ],
          "name": "stdout"
        },
        {
          "output_type": "execute_result",
          "data": {
            "text/plain": [
              "0.9489795918367347"
            ]
          },
          "metadata": {
            "tags": []
          },
          "execution_count": 37
        }
      ]
    },
    {
      "cell_type": "code",
      "metadata": {
        "id": "4YQ_yl_fN6mG",
        "colab_type": "code",
        "colab": {
          "base_uri": "https://localhost:8080/",
          "height": 34
        },
        "outputId": "426c194c-f718-44e2-b516-082dc1beed9f"
      },
      "source": [
        "X_train[0].shape"
      ],
      "execution_count": 39,
      "outputs": [
        {
          "output_type": "execute_result",
          "data": {
            "text/plain": [
              "(32, 32, 3)"
            ]
          },
          "metadata": {
            "tags": []
          },
          "execution_count": 39
        }
      ]
    },
    {
      "cell_type": "code",
      "metadata": {
        "id": "8M25h7kwOlrI",
        "colab_type": "code",
        "colab": {
          "base_uri": "https://localhost:8080/",
          "height": 34
        },
        "outputId": "cd6fa06a-140b-44d8-dfa5-3ac241c14ae0"
      },
      "source": [
        "color.rgb2gray(X_train[0]).shape"
      ],
      "execution_count": 61,
      "outputs": [
        {
          "output_type": "execute_result",
          "data": {
            "text/plain": [
              "(32, 32)"
            ]
          },
          "metadata": {
            "tags": []
          },
          "execution_count": 61
        }
      ]
    },
    {
      "cell_type": "code",
      "metadata": {
        "id": "oPxU61hcOzsJ",
        "colab_type": "code",
        "colab": {
          "base_uri": "https://localhost:8080/",
          "height": 283
        },
        "outputId": "e181f9fc-54f4-43f4-b46b-51166e6d1e30"
      },
      "source": [
        "plt.imshow(color.rgb2gray(X_train[0]))"
      ],
      "execution_count": 62,
      "outputs": [
        {
          "output_type": "execute_result",
          "data": {
            "text/plain": [
              "<matplotlib.image.AxesImage at 0x7f4074b2feb8>"
            ]
          },
          "metadata": {
            "tags": []
          },
          "execution_count": 62
        },
        {
          "output_type": "display_data",
          "data": {
            "image/png": "[encoded data removed]",
            "text/plain": [
              "<Figure size 432x288 with 1 Axes>"
            ]
          },
          "metadata": {
            "tags": []
          }
        }
      ]
    },
    {
      "cell_type": "code",
      "metadata": {
        "id": "WWoa9oIgPNRB",
        "colab_type": "code",
        "colab": {
          "base_uri": "https://localhost:8080/",
          "height": 283
        },
        "outputId": "0c294d87-b930-45c3-bfe4-dff44e565d53"
      },
      "source": [
        "plt.imshow(color.rgb2gray(X_train[0]), cmap=plt.get_cmap('gray'))"
      ],
      "execution_count": 63,
      "outputs": [
        {
          "output_type": "execute_result",
          "data": {
            "text/plain": [
              "<matplotlib.image.AxesImage at 0x7f4079c375f8>"
            ]
          },
          "metadata": {
            "tags": []
          },
          "execution_count": 63
        },
        {
          "output_type": "display_data",
          "data": {
            "image/png": "[encoded data removed]",
            "text/plain": [
              "<Figure size 432x288 with 1 Axes>"
            ]
          },
          "metadata": {
            "tags": []
          }
        }
      ]
    },
    {
      "cell_type": "code",
      "metadata": {
        "id": "4sw4ad9rPxHP",
        "colab_type": "code",
        "colab": {}
      },
      "source": [
        "X_train_gray = color.rgb2gray(X_train).reshape(-1, 32, 32, 1)\n",
        "X_test_gray = color.rgb2gray(X_test).reshape(-1, 32, 32, 1)"
      ],
      "execution_count": 0,
      "outputs": []
    },
    {
      "cell_type": "code",
      "metadata": {
        "id": "SPkyBqc6fnm0",
        "colab_type": "code",
        "colab": {
          "base_uri": "https://localhost:8080/",
          "height": 1000
        },
        "outputId": "895eb358-574e-4f24-911a-1258de1f3bc4"
      },
      "source": [
        "X_train_gray"
      ],
      "execution_count": 71,
      "outputs": [
        {
          "output_type": "execute_result",
          "data": {
            "text/plain": [
              "array([[[[0.10025647],\n",
              "         [0.0963349 ],\n",
              "         [0.09605216],\n",
              "         ...,\n",
              "         [0.11200627],\n",
              "         [0.1086502 ],\n",
              "         [0.10893294]],\n",
              "\n",
              "        [[0.10417804],\n",
              "         [0.09914039],\n",
              "         [0.09914039],\n",
              "         ...,\n",
              "         [0.11200627],\n",
              "         [0.10836745],\n",
              "         [0.10781686]],\n",
              "\n",
              "        [[0.10362745],\n",
              "         [0.09914039],\n",
              "         [0.09830706],\n",
              "         ...,\n",
              "         [0.11200627],\n",
              "         [0.10836745],\n",
              "         [0.10781686]],\n",
              "\n",
              "        ...,\n",
              "\n",
              "        [[0.0963349 ],\n",
              "         [0.10025647],\n",
              "         [0.10192314],\n",
              "         ...,\n",
              "         [0.0963349 ],\n",
              "         [0.09688549],\n",
              "         [0.10052431]],\n",
              "\n",
              "        [[0.09436275],\n",
              "         [0.09828431],\n",
              "         [0.10275647],\n",
              "         ...,\n",
              "         [0.0963349 ],\n",
              "         [0.09688549],\n",
              "         [0.09660275]],\n",
              "\n",
              "        [[0.09519608],\n",
              "         [0.09911765],\n",
              "         [0.10050157],\n",
              "         ...,\n",
              "         [0.09605216],\n",
              "         [0.09296392],\n",
              "         [0.08904235]]],\n",
              "\n",
              "\n",
              "       [[[0.09745098],\n",
              "         [0.09269608],\n",
              "         [0.09661765],\n",
              "         ...,\n",
              "         [0.11173843],\n",
              "         [0.11202118],\n",
              "         [0.11285451]],\n",
              "\n",
              "        [[0.09661765],\n",
              "         [0.09661765],\n",
              "         [0.10025647],\n",
              "         ...,\n",
              "         [0.1086502 ],\n",
              "         [0.10893294],\n",
              "         [0.11649333]],\n",
              "\n",
              "        [[0.09578431],\n",
              "         [0.09578431],\n",
              "         [0.0963349 ],\n",
              "         ...,\n",
              "         [0.10584471],\n",
              "         [0.10893294],\n",
              "         [0.11649333]],\n",
              "\n",
              "        ...,\n",
              "\n",
              "        [[0.09997373],\n",
              "         [0.10753412],\n",
              "         [0.10753412],\n",
              "         ...,\n",
              "         [0.09605216],\n",
              "         [0.09605216],\n",
              "         [0.09688549]],\n",
              "\n",
              "        [[0.09605216],\n",
              "         [0.10361255],\n",
              "         [0.10556196],\n",
              "         ...,\n",
              "         [0.09213059],\n",
              "         [0.09605216],\n",
              "         [0.09997373]],\n",
              "\n",
              "        [[0.09716824],\n",
              "         [0.09688549],\n",
              "         [0.09771882],\n",
              "         ...,\n",
              "         [0.09324667],\n",
              "         [0.0963349 ],\n",
              "         [0.10417804]]],\n",
              "\n",
              "\n",
              "       [[[0.10137255],\n",
              "         [0.10446078],\n",
              "         [0.10838235],\n",
              "         ...,\n",
              "         [0.10836745],\n",
              "         [0.11145569],\n",
              "         [0.11566   ]],\n",
              "\n",
              "        [[0.09661765],\n",
              "         [0.09970588],\n",
              "         [0.10362745],\n",
              "         ...,\n",
              "         [0.10808471],\n",
              "         [0.11228902],\n",
              "         [0.11929882]],\n",
              "\n",
              "        [[0.09661765],\n",
              "         [0.10362745],\n",
              "         [0.10754902],\n",
              "         ...,\n",
              "         [0.11200627],\n",
              "         [0.11200627],\n",
              "         [0.11621059]],\n",
              "\n",
              "        ...,\n",
              "\n",
              "        [[0.10249647],\n",
              "         [0.10304706],\n",
              "         [0.10499647],\n",
              "         ...,\n",
              "         [0.09743608],\n",
              "         [0.09351451],\n",
              "         [0.09408   ]],\n",
              "\n",
              "        [[0.10194588],\n",
              "         [0.09940824],\n",
              "         [0.10135765],\n",
              "         ...,\n",
              "         [0.09379725],\n",
              "         [0.08987569],\n",
              "         [0.09688549]],\n",
              "\n",
              "        [[0.10361255],\n",
              "         [0.09660275],\n",
              "         [0.09743608],\n",
              "         ...,\n",
              "         [0.10080706],\n",
              "         [0.09688549],\n",
              "         [0.10472863]]],\n",
              "\n",
              "\n",
              "       ...,\n",
              "\n",
              "\n",
              "       [[[0.25478392],\n",
              "         [0.23143216],\n",
              "         [0.31575725],\n",
              "         ...,\n",
              "         [0.97280196],\n",
              "         [0.83314353],\n",
              "         [0.46585451]],\n",
              "\n",
              "        [[0.16085176],\n",
              "         [0.18627804],\n",
              "         [0.37711059],\n",
              "         ...,\n",
              "         [0.87566353],\n",
              "         [0.69027843],\n",
              "         [0.34235216]],\n",
              "\n",
              "        [[0.10364235],\n",
              "         [0.15180235],\n",
              "         [0.24743882],\n",
              "         ...,\n",
              "         [0.54809098],\n",
              "         [0.40907843],\n",
              "         [0.23052431]],\n",
              "\n",
              "        ...,\n",
              "\n",
              "        [[0.09216039],\n",
              "         [0.08124392],\n",
              "         [0.07619137],\n",
              "         ...,\n",
              "         [0.3084349 ],\n",
              "         [0.24632275],\n",
              "         [0.19895843]],\n",
              "\n",
              "        [[0.12213412],\n",
              "         [0.09105922],\n",
              "         [0.07310314],\n",
              "         ...,\n",
              "         [0.26671843],\n",
              "         [0.24994667],\n",
              "         [0.21244235]],\n",
              "\n",
              "        [[0.11036941],\n",
              "         [0.08431725],\n",
              "         [0.07170431],\n",
              "         ...,\n",
              "         [0.25406784],\n",
              "         [0.17429804],\n",
              "         [0.14375882]]],\n",
              "\n",
              "\n",
              "       [[[0.3143051 ],\n",
              "         [0.49533804],\n",
              "         [0.48530039],\n",
              "         ...,\n",
              "         [0.71481176],\n",
              "         [0.81994314],\n",
              "         [0.46403804]],\n",
              "\n",
              "        [[0.30398471],\n",
              "         [0.68296314],\n",
              "         [0.62629216],\n",
              "         ...,\n",
              "         [0.71066706],\n",
              "         [0.78632275],\n",
              "         [0.32833333]],\n",
              "\n",
              "        [[0.20110824],\n",
              "         [0.41407922],\n",
              "         [0.51249843],\n",
              "         ...,\n",
              "         [0.60531255],\n",
              "         [0.71633765],\n",
              "         [0.32095765]],\n",
              "\n",
              "        ...,\n",
              "\n",
              "        [[0.08346902],\n",
              "         [0.07534314],\n",
              "         [0.06526   ],\n",
              "         ...,\n",
              "         [0.19890588],\n",
              "         [0.16617216],\n",
              "         [0.15670706]],\n",
              "\n",
              "        [[0.06497725],\n",
              "         [0.06861608],\n",
              "         [0.0722698 ],\n",
              "         ...,\n",
              "         [0.17040627],\n",
              "         [0.14206941],\n",
              "         [0.16788353]],\n",
              "\n",
              "        [[0.06834824],\n",
              "         [0.08011294],\n",
              "         [0.08878941],\n",
              "         ...,\n",
              "         [0.13364588],\n",
              "         [0.16890235],\n",
              "         [0.16950549]]],\n",
              "\n",
              "\n",
              "       [[[0.30627725],\n",
              "         [0.10085961],\n",
              "         [0.16388745],\n",
              "         ...,\n",
              "         [0.91099529],\n",
              "         [0.62445294],\n",
              "         [0.63894   ]],\n",
              "\n",
              "        [[0.42644706],\n",
              "         [0.15831412],\n",
              "         [0.22713765],\n",
              "         ...,\n",
              "         [0.83348745],\n",
              "         [0.63341216],\n",
              "         [0.63891804]],\n",
              "\n",
              "        [[0.41880431],\n",
              "         [0.14344627],\n",
              "         [0.27815569],\n",
              "         ...,\n",
              "         [0.91717961],\n",
              "         [0.74547098],\n",
              "         [0.65180667]],\n",
              "\n",
              "        ...,\n",
              "\n",
              "        [[0.08011294],\n",
              "         [0.09498078],\n",
              "         [0.07872902],\n",
              "         ...,\n",
              "         [0.18462627],\n",
              "         [0.24206588],\n",
              "         [0.26790275]],\n",
              "\n",
              "        [[0.06863098],\n",
              "         [0.07592353],\n",
              "         [0.07200196],\n",
              "         ...,\n",
              "         [0.14230745],\n",
              "         [0.23364941],\n",
              "         [0.26731451]],\n",
              "\n",
              "        [[0.06442667],\n",
              "         [0.0605051 ],\n",
              "         [0.0605051 ],\n",
              "         ...,\n",
              "         [0.15799373],\n",
              "         [0.24208078],\n",
              "         [0.26089294]]]])"
            ]
          },
          "metadata": {
            "tags": []
          },
          "execution_count": 71
        }
      ]
    },
    {
      "cell_type": "code",
      "metadata": {
        "id": "odr2cXarU45y",
        "colab_type": "code",
        "colab": {
          "base_uri": "https://localhost:8080/",
          "height": 204
        },
        "outputId": "19413e5e-5286-4264-a4d5-b8026a6e3c1c"
      },
      "source": [
        "model = get_cnn_v5((32, 32, 1), num_classes)\n",
        "model_trained = train_model(model,X_train_gray,y_train,params_fit={})\n",
        "predict(model_trained,X_test_gray,y_test)"
      ],
      "execution_count": 72,
      "outputs": [
        {
          "output_type": "stream",
          "text": [
            "Epoch 1/5\n",
            "272/272 [==============================] - 4s 16ms/step - loss: 2.6086 - accuracy: 0.2688 - val_loss: 0.6371 - val_accuracy: 0.8061\n",
            "Epoch 2/5\n",
            "272/272 [==============================] - 4s 15ms/step - loss: 0.5475 - accuracy: 0.8266 - val_loss: 0.1259 - val_accuracy: 0.9660\n",
            "Epoch 3/5\n",
            "272/272 [==============================] - 4s 15ms/step - loss: 0.2536 - accuracy: 0.9198 - val_loss: 0.0704 - val_accuracy: 0.9794\n",
            "Epoch 4/5\n",
            "272/272 [==============================] - 4s 15ms/step - loss: 0.1788 - accuracy: 0.9449 - val_loss: 0.0340 - val_accuracy: 0.9904\n",
            "Epoch 5/5\n",
            "272/272 [==============================] - 4s 15ms/step - loss: 0.1312 - accuracy: 0.9574 - val_loss: 0.0251 - val_accuracy: 0.9933\n"
          ],
          "name": "stdout"
        },
        {
          "output_type": "execute_result",
          "data": {
            "text/plain": [
              "0.9698412698412698"
            ]
          },
          "metadata": {
            "tags": []
          },
          "execution_count": 72
        }
      ]
    },
    {
      "cell_type": "code",
      "metadata": {
        "id": "NrrHyAsCdg1H",
        "colab_type": "code",
        "colab": {
          "base_uri": "https://localhost:8080/",
          "height": 283
        },
        "outputId": "c4473373-557b-46a0-e44b-a63a97861f07"
      },
      "source": [
        "plt.imshow(color.rgb2gray(X_train[0]),cmap=plt.get_cmap('gray'))"
      ],
      "execution_count": 74,
      "outputs": [
        {
          "output_type": "execute_result",
          "data": {
            "text/plain": [
              "<matplotlib.image.AxesImage at 0x7f407c6b8dd8>"
            ]
          },
          "metadata": {
            "tags": []
          },
          "execution_count": 74
        },
        {
          "output_type": "display_data",
          "data": {
            "image/png": "[encoded data removed]",
            "text/plain": [
              "<Figure size 432x288 with 1 Axes>"
            ]
          },
          "metadata": {
            "tags": []
          }
        }
      ]
    },
    {
      "cell_type": "code",
      "metadata": {
        "id": "mbgYtq5XhJyQ",
        "colab_type": "code",
        "colab": {}
      },
      "source": [
        ""
      ],
      "execution_count": 0,
      "outputs": []
    }
  ]
}