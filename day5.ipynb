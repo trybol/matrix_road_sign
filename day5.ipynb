{
  "nbformat": 4,
  "nbformat_minor": 0,
  "metadata": {
    "colab": {
      "name": "day5.ipynb",
      "provenance": [],
      "mount_file_id": "1n3PkYS5xpMhicJ3Le1jSnvVdowWoGIaE",
      "authorship_tag": "ABX9TyOccQzmqPv3rF8LXM3MNs39",
      "include_colab_link": true
    },
    "kernelspec": {
      "name": "python3",
      "display_name": "Python 3"
    },
    "accelerator": "GPU"
  },
  "cells": [
    {
      "cell_type": "markdown",
      "metadata": {
        "id": "view-in-github",
        "colab_type": "text"
      },
      "source": [
        "<a href=\"https://colab.research.google.com/github/trybol/matrix_road_sign/blob/master/day5.ipynb\" target=\"_parent\"><img src=\"https://colab.research.google.com/assets/colab-badge.svg\" alt=\"Open In Colab\"/></a>"
      ]
    },
    {
      "cell_type": "code",
      "metadata": {
        "id": "uX86hOPx8Vge",
        "colab_type": "code",
        "colab": {}
      },
      "source": [
        "# !pip install hyperopt"
      ],
      "execution_count": 0,
      "outputs": []
    },
    {
      "cell_type": "code",
      "metadata": {
        "id": "05LvVz2k8_nT",
        "colab_type": "code",
        "colab": {
          "base_uri": "https://localhost:8080/",
          "height": 68
        },
        "outputId": "dffc6bd6-5173-4e7f-8614-926f91481b23"
      },
      "source": [
        "import pandas as pd\n",
        "import numpy as np\n",
        "import os\n",
        "import datetime\n",
        "\n",
        "import tensorflow as tf\n",
        "from tensorflow.keras.models import Sequential\n",
        "from tensorflow.keras.layers import Conv2D, MaxPool2D, Dense, Flatten, Dropout\n",
        "from tensorflow.keras.utils import to_categorical\n",
        "\n",
        "import matplotlib.pyplot as plt\n",
        "from skimage import color, exposure\n",
        "\n",
        "from sklearn.metrics import accuracy_score\n",
        "\n",
        "from hyperopt import hp, STATUS_OK, tpe, Trials, fmin\n",
        "\n",
        "%load_ext tensorboard"
      ],
      "execution_count": 17,
      "outputs": [
        {
          "output_type": "stream",
          "text": [
            "The tensorboard extension is already loaded. To reload it, use:\n",
            "  %reload_ext tensorboard\n",
            "ERROR! Session/line number was not unique in database. History logging moved to new session 60\n"
          ],
          "name": "stdout"
        }
      ]
    },
    {
      "cell_type": "code",
      "metadata": {
        "id": "mb0Cqpjf9aEZ",
        "colab_type": "code",
        "colab": {
          "base_uri": "https://localhost:8080/",
          "height": 34
        },
        "outputId": "e0ef7e29-9a96-4091-fd39-7ce69e35f469"
      },
      "source": [
        "cd '/content/drive/My Drive/Colab Notebooks/matrix/matrix_three/matrix_road_sign'"
      ],
      "execution_count": 4,
      "outputs": [
        {
          "output_type": "stream",
          "text": [
            "/content/drive/My Drive/Colab Notebooks/matrix/matrix_three/matrix_road_sign\n"
          ],
          "name": "stdout"
        }
      ]
    },
    {
      "cell_type": "code",
      "metadata": {
        "id": "jKSvLZcr9hrH",
        "colab_type": "code",
        "colab": {}
      },
      "source": [
        "train = pd.read_pickle('data/train.p')\n",
        "test = pd.read_pickle('data/test.p')\n",
        "\n",
        "X_train, y_train  = train['features'], train['labels']\n",
        "X_test, y_test  = test['features'], test['labels']"
      ],
      "execution_count": 0,
      "outputs": []
    },
    {
      "cell_type": "code",
      "metadata": {
        "id": "0sne39FY9k_A",
        "colab_type": "code",
        "colab": {}
      },
      "source": [
        "if y_train.ndim == 1: y_train = to_categorical(y_train)\n",
        "if y_test.ndim == 1: y_test = to_categorical(y_test)\n",
        "\n",
        "input_shape = X_train.shape[1:]\n",
        "num_classes = y_train.shape[1]"
      ],
      "execution_count": 0,
      "outputs": []
    },
    {
      "cell_type": "code",
      "metadata": {
        "id": "FG2v2_Kv9vnW",
        "colab_type": "code",
        "colab": {}
      },
      "source": [
        "def train_model(model, X_train, y_train, params_fit={}):\n",
        "  \n",
        "  model.compile(loss='categorical_crossentropy', optimizer='Adam', metrics=['accuracy'])\n",
        "\n",
        "  logdir = os.path.join(\"logs\", datetime.datetime.now().strftime(\"%Y%m%d-%H%M%S\"))\n",
        "  tensorboard_callback = tf.keras.callbacks.TensorBoard(logdir, histogram_freq=1)\n",
        "  \n",
        "  model.fit(\n",
        "      X_train, \n",
        "      y_train,\n",
        "      batch_size=params_fit.get('batch_size', 128),\n",
        "      epochs=params_fit.get('epochs', 5),\n",
        "      verbose=params_fit.get('verbose', 1),\n",
        "      validation_data=params_fit.get('validation_data', (X_train, y_train)),\n",
        "      callbacks=[tensorboard_callback]\n",
        "  )\n",
        "\n",
        "  return model\n",
        "\n",
        "\n",
        "def predict(model_trained, X_test, y_test, scoring=accuracy_score):\n",
        "\n",
        "  y_test_norm = np.argmax( y_test, axis=1 )\n",
        "\n",
        "  y_pred_prob = model_trained.predict( X_test )\n",
        "  y_pred = np.argmax( y_pred_prob, axis=1 )\n",
        "\n",
        "  return scoring(y_test_norm, y_pred)"
      ],
      "execution_count": 0,
      "outputs": []
    },
    {
      "cell_type": "code",
      "metadata": {
        "id": "ceXS6_FD-DkH",
        "colab_type": "code",
        "colab": {}
      },
      "source": [
        "def get_cnn_v5(input_shape, num_classes):\n",
        " return Sequential([\n",
        "    Conv2D(filters=32, kernel_size=(3, 3), activation='relu', input_shape=input_shape, padding='same'),\n",
        "    Conv2D(filters=32, kernel_size=(3, 3), activation='relu', input_shape=input_shape),\n",
        "    MaxPool2D(),\n",
        "    Dropout(0.3),\n",
        "\n",
        "\n",
        "    Conv2D(filters=32, kernel_size=(3, 3), activation='relu', input_shape=input_shape, padding='same'),\n",
        "    Conv2D(filters=32, kernel_size=(3, 3), activation='relu', input_shape=input_shape),\n",
        "    MaxPool2D(),\n",
        "    Dropout(0.3),\n",
        "\n",
        "    Conv2D(filters=64, kernel_size=(3, 3), activation='relu', padding='same'),\n",
        "    Conv2D(filters=64, kernel_size=(3, 3), activation='relu'),\n",
        "    MaxPool2D(),\n",
        "    Dropout(0.3),\n",
        "    \n",
        "    Flatten(),\n",
        "    \n",
        "    Dense(1024, activation='relu'),\n",
        "    Dropout(0.3),\n",
        "\n",
        "    Dense(1024, activation='relu'),\n",
        "    Dropout(0.3),\n",
        "\n",
        "    Dense(num_classes, activation='softmax'),\n",
        " ])\n",
        "\n",
        "#train_and_predict( get_cnn_v5(input_shape, num_classes))"
      ],
      "execution_count": 0,
      "outputs": []
    },
    {
      "cell_type": "code",
      "metadata": {
        "id": "5YW5WdAL-LQP",
        "colab_type": "code",
        "colab": {
          "base_uri": "https://localhost:8080/",
          "height": 187
        },
        "outputId": "8c90dbb0-6a0f-4059-fd7c-8bb02dcbb757"
      },
      "source": [
        "model = get_cnn_v5(input_shape, num_classes)\n",
        "model_trained = train_model(model, X_train, y_train)"
      ],
      "execution_count": 10,
      "outputs": [
        {
          "output_type": "stream",
          "text": [
            "Epoch 1/5\n",
            "272/272 [==============================] - 4s 15ms/step - loss: 2.8078 - accuracy: 0.2437 - val_loss: 1.5157 - val_accuracy: 0.5052\n",
            "Epoch 2/5\n",
            "272/272 [==============================] - 4s 14ms/step - loss: 1.2480 - accuracy: 0.5903 - val_loss: 0.5030 - val_accuracy: 0.8255\n",
            "Epoch 3/5\n",
            "272/272 [==============================] - 4s 14ms/step - loss: 0.6093 - accuracy: 0.8036 - val_loss: 0.1817 - val_accuracy: 0.9421\n",
            "Epoch 4/5\n",
            "272/272 [==============================] - 4s 13ms/step - loss: 0.4013 - accuracy: 0.8724 - val_loss: 0.1125 - val_accuracy: 0.9656\n",
            "Epoch 5/5\n",
            "272/272 [==============================] - 4s 13ms/step - loss: 0.2895 - accuracy: 0.9097 - val_loss: 0.0662 - val_accuracy: 0.9805\n"
          ],
          "name": "stdout"
        }
      ]
    },
    {
      "cell_type": "code",
      "metadata": {
        "id": "S0lfvaZS-m02",
        "colab_type": "code",
        "colab": {
          "base_uri": "https://localhost:8080/",
          "height": 51
        },
        "outputId": "adb6bee5-cbbd-45a4-de13-231dc2c32bb3"
      },
      "source": [
        "model_trained.evaluate(X_test, y_test)[1]"
      ],
      "execution_count": 11,
      "outputs": [
        {
          "output_type": "stream",
          "text": [
            "138/138 [==============================] - 1s 4ms/step - loss: 0.1784 - accuracy: 0.9501\n"
          ],
          "name": "stdout"
        },
        {
          "output_type": "execute_result",
          "data": {
            "text/plain": [
              "0.9501133561134338"
            ]
          },
          "metadata": {
            "tags": []
          },
          "execution_count": 11
        }
      ]
    },
    {
      "cell_type": "code",
      "metadata": {
        "id": "6_lBG4CfIIfj",
        "colab_type": "code",
        "colab": {}
      },
      "source": [
        "def get_model(params):\n",
        " return Sequential([\n",
        "    Conv2D(filters=32, kernel_size=(3, 3), activation='relu', input_shape=input_shape, padding='same'),\n",
        "    Conv2D(filters=32, kernel_size=(3, 3), activation='relu', input_shape=input_shape),\n",
        "    MaxPool2D(),\n",
        "    Dropout(params['dropouts_cnn_block_one']),\n",
        "\n",
        "\n",
        "    Conv2D(filters=32, kernel_size=(3, 3), activation='relu', input_shape=input_shape, padding='same'),\n",
        "    Conv2D(filters=32, kernel_size=(3, 3), activation='relu', input_shape=input_shape),\n",
        "    MaxPool2D(),\n",
        "    Dropout(params['dropouts_cnn_block_two']),\n",
        "\n",
        "    Conv2D(filters=128, kernel_size=(3, 3), activation='relu', padding='same'),\n",
        "    Conv2D(filters=128, kernel_size=(3, 3), activation='relu'),\n",
        "    MaxPool2D(),\n",
        "    Dropout(params['dropouts_cnn_block_three']),\n",
        "    \n",
        "    Flatten(),\n",
        "    \n",
        "    Dense(1024, activation='relu'),\n",
        "    Dropout(params['dropouts_dense_block_one']),\n",
        "\n",
        "    Dense(1024, activation='relu'),\n",
        "    Dropout(params['dropouts_dense_block_two']),\n",
        "\n",
        "    Dense(num_classes, activation='softmax'),\n",
        " ])"
      ],
      "execution_count": 0,
      "outputs": []
    },
    {
      "cell_type": "code",
      "metadata": {
        "id": "Zqkc4KRR_VOn",
        "colab_type": "code",
        "colab": {}
      },
      "source": [
        "def func_obj(params):\n",
        "  model = get_model(params)\n",
        "  model.compile(loss='categorical_crossentropy', optimizer='Adam', metrics=['accuracy'])\n",
        "\n",
        "  model.fit(\n",
        "      X_train, \n",
        "      y_train,\n",
        "      batch_size=int(params.get('batch_size', 128)),\n",
        "      epochs=5,\n",
        "      verbose=0,\n",
        "  )\n",
        "  score = model.evaluate(X_test, y_test, verbose=0)\n",
        "  accuracy = score[1]\n",
        "  print(params, 'accuracy={}'.format(accuracy))\n",
        "\n",
        "\n",
        "  return {'loss' : -accuracy, 'status': STATUS_OK, 'model': model}\n"
      ],
      "execution_count": 0,
      "outputs": []
    },
    {
      "cell_type": "code",
      "metadata": {
        "id": "dPeXYo01AcPZ",
        "colab_type": "code",
        "colab": {
          "base_uri": "https://localhost:8080/",
          "height": 1000
        },
        "outputId": "868413c4-ad8d-42d9-db8b-f78d02c379f4"
      },
      "source": [
        "space = {\n",
        "    'batch_size': hp.quniform('batch_size', 100, 200, 10),\n",
        "    'dropouts_cnn_block_one': hp.uniform('dropouts_cnn_block_one', 0.3, 0.6),\n",
        "    'dropouts_cnn_block_two': hp.uniform('dropouts_cnn_block_two', 0.3, 0.6),\n",
        "    'dropouts_cnn_block_three': hp.uniform('dropouts_cnn_block_three', 0.3, 0.6),\n",
        "\n",
        "    'dropouts_dense_block_one': hp.uniform('dropouts_dense_block_one', 0.3, 0.7),\n",
        "    'dropouts_dense_block_two': hp.uniform('dropouts_dense_block_two', 0.3, 0.7)\n",
        "\n",
        "}\n",
        "\n",
        "best = fmin(\n",
        "     func_obj,\n",
        "     space,\n",
        "     tpe.suggest,\n",
        "     30,\n",
        "     Trials()\n",
        ")"
      ],
      "execution_count": 31,
      "outputs": [
        {
          "output_type": "stream",
          "text": [
            "{'batch_size': 100.0, 'dropouts_cnn_block_one': 0.5797578020061288, 'dropouts_cnn_block_three': 0.5599664021892918, 'dropouts_cnn_block_two': 0.5073765473342446, 'dropouts_dense_block_one': 0.49208962713977306, 'dropouts_dense_block_two': 0.567354409332488}\n",
            "accuracy=0.6517006754875183\n",
            "{'batch_size': 160.0, 'dropouts_cnn_block_one': 0.5706506769267904, 'dropouts_cnn_block_three': 0.4552808425195367, 'dropouts_cnn_block_two': 0.3169445321707244, 'dropouts_dense_block_one': 0.5943218444434141, 'dropouts_dense_block_two': 0.6108072045978639}\n",
            "accuracy=0.7469387650489807\n",
            "{'batch_size': 180.0, 'dropouts_cnn_block_one': 0.38462809064376424, 'dropouts_cnn_block_three': 0.5620782323368023, 'dropouts_cnn_block_two': 0.5348869688946214, 'dropouts_dense_block_one': 0.5160579732288135, 'dropouts_dense_block_two': 0.5635792571646684}\n",
            "accuracy=0.6836734414100647\n",
            "{'batch_size': 160.0, 'dropouts_cnn_block_one': 0.4547339052988564, 'dropouts_cnn_block_three': 0.4820410647651434, 'dropouts_cnn_block_two': 0.5748242719890926, 'dropouts_dense_block_one': 0.6272061533732776, 'dropouts_dense_block_two': 0.493688148627985}\n",
            "accuracy=0.6024943590164185\n",
            "{'batch_size': 150.0, 'dropouts_cnn_block_one': 0.37625196987449294, 'dropouts_cnn_block_three': 0.4250091608426479, 'dropouts_cnn_block_two': 0.504043811046504, 'dropouts_dense_block_one': 0.49056465178283326, 'dropouts_dense_block_two': 0.5306638652324914}\n",
            "accuracy=0.8219954371452332\n",
            "{'batch_size': 110.0, 'dropouts_cnn_block_one': 0.3065511759049116, 'dropouts_cnn_block_three': 0.3784744794940564, 'dropouts_cnn_block_two': 0.3606534132317394, 'dropouts_dense_block_one': 0.32509332116930306, 'dropouts_dense_block_two': 0.560153753612725}\n",
            "accuracy=0.9494330883026123\n",
            "{'batch_size': 200.0, 'dropouts_cnn_block_one': 0.3819127822760713, 'dropouts_cnn_block_three': 0.437698475731104, 'dropouts_cnn_block_two': 0.525941124726828, 'dropouts_dense_block_one': 0.6373356893809932, 'dropouts_dense_block_two': 0.3723605630617754}\n",
            "accuracy=0.4714285731315613\n",
            "{'batch_size': 120.0, 'dropouts_cnn_block_one': 0.5882423559368253, 'dropouts_cnn_block_three': 0.5429080132150987, 'dropouts_cnn_block_two': 0.4457072577910086, 'dropouts_dense_block_one': 0.5571135523687338, 'dropouts_dense_block_two': 0.5291868872747997}\n",
            "accuracy=0.5523809790611267\n",
            "{'batch_size': 110.0, 'dropouts_cnn_block_one': 0.5093954763484535, 'dropouts_cnn_block_three': 0.4524729797676671, 'dropouts_cnn_block_two': 0.3013457481468215, 'dropouts_dense_block_one': 0.6040650798903405, 'dropouts_dense_block_two': 0.3488800930295295}\n",
            "accuracy=0.8836734890937805\n",
            "{'batch_size': 150.0, 'dropouts_cnn_block_one': 0.3401475359710414, 'dropouts_cnn_block_three': 0.45741051006631117, 'dropouts_cnn_block_two': 0.3010961816336567, 'dropouts_dense_block_one': 0.5605508742102694, 'dropouts_dense_block_two': 0.6040700543192932}\n",
            "accuracy=0.9104308485984802\n",
            "{'batch_size': 110.0, 'dropouts_cnn_block_one': 0.5102470475867622, 'dropouts_cnn_block_three': 0.5002820269825454, 'dropouts_cnn_block_two': 0.5815523649519019, 'dropouts_dense_block_one': 0.6408324171761602, 'dropouts_dense_block_two': 0.49355602816468824}\n",
            "accuracy=0.6253968477249146\n",
            "{'batch_size': 100.0, 'dropouts_cnn_block_one': 0.37097695191311936, 'dropouts_cnn_block_three': 0.5807437321861729, 'dropouts_cnn_block_two': 0.539971307886831, 'dropouts_dense_block_one': 0.48945025234055983, 'dropouts_dense_block_two': 0.6284066311482701}\n",
            "accuracy=0.7072562575340271\n",
            "{'batch_size': 170.0, 'dropouts_cnn_block_one': 0.5147810180834157, 'dropouts_cnn_block_three': 0.36691076840156783, 'dropouts_cnn_block_two': 0.31515740319807867, 'dropouts_dense_block_one': 0.6803324935762081, 'dropouts_dense_block_two': 0.3346717350026031}\n",
            "accuracy=0.817913830280304\n",
            "{'batch_size': 150.0, 'dropouts_cnn_block_one': 0.4310580394493808, 'dropouts_cnn_block_three': 0.4057500081000838, 'dropouts_cnn_block_two': 0.4759617078503522, 'dropouts_dense_block_one': 0.580368542846929, 'dropouts_dense_block_two': 0.6707733706054607}\n",
            "accuracy=0.8006802797317505\n",
            "{'batch_size': 110.0, 'dropouts_cnn_block_one': 0.5972347436212604, 'dropouts_cnn_block_three': 0.38906154114877317, 'dropouts_cnn_block_two': 0.5869776616252893, 'dropouts_dense_block_one': 0.30538503482689044, 'dropouts_dense_block_two': 0.628352499855358}\n",
            "accuracy=0.7217687368392944\n",
            "{'batch_size': 170.0, 'dropouts_cnn_block_one': 0.47327072086235067, 'dropouts_cnn_block_three': 0.43705468721101143, 'dropouts_cnn_block_two': 0.5073123029234946, 'dropouts_dense_block_one': 0.6394223654260281, 'dropouts_dense_block_two': 0.3847917354470651}\n",
            "accuracy=0.6165533065795898\n",
            "{'batch_size': 190.0, 'dropouts_cnn_block_one': 0.4756633448031008, 'dropouts_cnn_block_three': 0.5365420507532228, 'dropouts_cnn_block_two': 0.3771341918820296, 'dropouts_dense_block_one': 0.5938465422217157, 'dropouts_dense_block_two': 0.5601544129463125}\n",
            "accuracy=0.6399092674255371\n",
            "{'batch_size': 100.0, 'dropouts_cnn_block_one': 0.4570894611978041, 'dropouts_cnn_block_three': 0.3387092834287951, 'dropouts_cnn_block_two': 0.5108113685076842, 'dropouts_dense_block_one': 0.5701526149404673, 'dropouts_dense_block_two': 0.5893743845623347}\n",
            "accuracy=0.7444444298744202\n",
            "{'batch_size': 140.0, 'dropouts_cnn_block_one': 0.4387340847781368, 'dropouts_cnn_block_three': 0.42856709761764056, 'dropouts_cnn_block_two': 0.30733120097160394, 'dropouts_dense_block_one': 0.45846593451691925, 'dropouts_dense_block_two': 0.486774270563924}\n",
            "accuracy=0.9462584853172302\n",
            "{'batch_size': 110.0, 'dropouts_cnn_block_one': 0.4265886157731575, 'dropouts_cnn_block_three': 0.4858021709323797, 'dropouts_cnn_block_two': 0.5156722764286492, 'dropouts_dense_block_one': 0.35221612445885603, 'dropouts_dense_block_two': 0.4282260232196697}\n",
            "accuracy=0.7655328512191772\n",
            "{'batch_size': 130.0, 'dropouts_cnn_block_one': 0.303137629735277, 'dropouts_cnn_block_three': 0.31206534401412683, 'dropouts_cnn_block_two': 0.3617682022161834, 'dropouts_dense_block_one': 0.4247872566975496, 'dropouts_dense_block_two': 0.4585401947989449}\n",
            "accuracy=0.9517006874084473\n",
            "{'batch_size': 130.0, 'dropouts_cnn_block_one': 0.30254410870557047, 'dropouts_cnn_block_three': 0.30985841972807393, 'dropouts_cnn_block_two': 0.37187261896805224, 'dropouts_dense_block_one': 0.3966190569944068, 'dropouts_dense_block_two': 0.43693290221245984}\n",
            "accuracy=0.9446712136268616\n",
            "{'batch_size': 130.0, 'dropouts_cnn_block_one': 0.30151826562067463, 'dropouts_cnn_block_three': 0.300471835020813, 'dropouts_cnn_block_two': 0.36367454078740824, 'dropouts_dense_block_one': 0.40629506297437595, 'dropouts_dense_block_two': 0.43818300171302527}\n",
            "accuracy=0.9142857193946838\n",
            "{'batch_size': 130.0, 'dropouts_cnn_block_one': 0.3266005628314688, 'dropouts_cnn_block_three': 0.3370880308727869, 'dropouts_cnn_block_two': 0.41096583076839754, 'dropouts_dense_block_one': 0.3463163445762715, 'dropouts_dense_block_two': 0.679162329532925}\n",
            "accuracy=0.9460317492485046\n",
            "{'batch_size': 120.0, 'dropouts_cnn_block_one': 0.3414636382502373, 'dropouts_cnn_block_three': 0.35808087282114065, 'dropouts_cnn_block_two': 0.34066609662420166, 'dropouts_dense_block_one': 0.42867567228296727, 'dropouts_dense_block_two': 0.4648880396910961}\n",
            "accuracy=0.9467120170593262\n",
            "{'batch_size': 140.0, 'dropouts_cnn_block_one': 0.408258486877459, 'dropouts_cnn_block_three': 0.3287302463896214, 'dropouts_cnn_block_two': 0.4128473641018253, 'dropouts_dense_block_one': 0.3117133196514795, 'dropouts_dense_block_two': 0.39614839102338045}\n",
            "accuracy=0.8868480920791626\n",
            "{'batch_size': 120.0, 'dropouts_cnn_block_one': 0.32574306073002224, 'dropouts_cnn_block_three': 0.39040258180892107, 'dropouts_cnn_block_two': 0.40316693788356484, 'dropouts_dense_block_one': 0.3616287953822317, 'dropouts_dense_block_two': 0.5258311837597716}\n",
            "accuracy=0.9575963616371155\n",
            "{'batch_size': 120.0, 'dropouts_cnn_block_one': 0.32518910090059305, 'dropouts_cnn_block_three': 0.3998095541713078, 'dropouts_cnn_block_two': 0.4112233720962455, 'dropouts_dense_block_one': 0.40186670837587624, 'dropouts_dense_block_two': 0.5293452397598286}\n",
            "accuracy=0.9015873074531555\n",
            "{'batch_size': 140.0, 'dropouts_cnn_block_one': 0.3608354497606312, 'dropouts_cnn_block_three': 0.30001345923586836, 'dropouts_cnn_block_two': 0.44070911790678063, 'dropouts_dense_block_one': 0.3681984941937724, 'dropouts_dense_block_two': 0.40911658830418535}\n",
            "accuracy=0.9489796161651611\n",
            "{'batch_size': 130.0, 'dropouts_cnn_block_one': 0.35269174714656554, 'dropouts_cnn_block_three': 0.3225084944746296, 'dropouts_cnn_block_two': 0.339240829849163, 'dropouts_dense_block_one': 0.45355787257049934, 'dropouts_dense_block_two': 0.4663975725296132}\n",
            "accuracy=0.9417233467102051\n",
            "100%|██████████| 30/30 [05:20<00:00, 10.69s/it, best loss: -0.9575963616371155]\n"
          ],
          "name": "stdout"
        }
      ]
    },
    {
      "cell_type": "code",
      "metadata": {
        "id": "lhz0MeWsDaeI",
        "colab_type": "code",
        "colab": {}
      },
      "source": [
        ""
      ],
      "execution_count": 0,
      "outputs": []
    }
  ]
}